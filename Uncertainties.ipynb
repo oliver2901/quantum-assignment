{
  "nbformat": 4,
  "nbformat_minor": 0,
  "metadata": {
    "kernelspec": {
      "display_name": "Python 3",
      "language": "python",
      "name": "python3"
    },
    "language_info": {
      "codemirror_mode": {
        "name": "ipython",
        "version": 3
      },
      "file_extension": ".py",
      "mimetype": "text/x-python",
      "name": "python",
      "nbconvert_exporter": "python",
      "pygments_lexer": "ipython3",
      "version": "3.7.10"
    },
    "colab": {
      "name": "Uncertainties.ipynb",
      "provenance": []
    }
  },
  "cells": [
    {
      "cell_type": "markdown",
      "metadata": {
        "id": "jN6p0UUoDf4t"
      },
      "source": [
        "# Feedback from previous weeks and other and hints\n",
        "\n",
        "1. Be careful about your environment remembering variables. Make sure your code works in a new _clean_ environment. In Colab: `Runtime`->`restart Runtime`, in Anaconda's Jupyter: `Kernel`->`Restart`.\n",
        "2. Graphs without labels (or units when appropriate) are not worth any point.\n",
        "3. Do put in sufficient explanatory comments in your code.\n",
        "4. Functions are very important. Do look up the video on the Safari O'Reilly ressource if you are still not clear on them !\n",
        "\n",
        "For this week you can use these imports at the start of your programs:"
      ]
    },
    {
      "cell_type": "code",
      "metadata": {
        "id": "LyVckWoFDf4x"
      },
      "source": [
        "import numpy as np\n",
        "import matplotlib.pyplot as plt"
      ],
      "execution_count": 1,
      "outputs": []
    },
    {
      "cell_type": "markdown",
      "metadata": {
        "id": "NvKzDF1JDf4z"
      },
      "source": [
        "We will use a new module `uncertainties`, which is **not** standard in the colab environment. You will have to first run:"
      ]
    },
    {
      "cell_type": "code",
      "metadata": {
        "id": "-UwMca4LDf4z",
        "colab": {
          "base_uri": "https://localhost:8080/"
        },
        "outputId": "4b35c34b-8878-4100-9dd5-18f39197a7fb"
      },
      "source": [
        "! pip install -q uncertainties"
      ],
      "execution_count": 2,
      "outputs": [
        {
          "output_type": "stream",
          "name": "stdout",
          "text": [
            "\u001b[?25l\r\u001b[K     |███▍                            | 10 kB 24.5 MB/s eta 0:00:01\r\u001b[K     |██████▊                         | 20 kB 30.4 MB/s eta 0:00:01\r\u001b[K     |██████████                      | 30 kB 29.8 MB/s eta 0:00:01\r\u001b[K     |█████████████▍                  | 40 kB 31.5 MB/s eta 0:00:01\r\u001b[K     |████████████████▊               | 51 kB 32.0 MB/s eta 0:00:01\r\u001b[K     |████████████████████            | 61 kB 34.7 MB/s eta 0:00:01\r\u001b[K     |███████████████████████▍        | 71 kB 32.3 MB/s eta 0:00:01\r\u001b[K     |██████████████████████████▊     | 81 kB 33.3 MB/s eta 0:00:01\r\u001b[K     |██████████████████████████████  | 92 kB 35.2 MB/s eta 0:00:01\r\u001b[K     |████████████████████████████████| 98 kB 7.7 MB/s \n",
            "\u001b[?25h"
          ]
        }
      ]
    },
    {
      "cell_type": "markdown",
      "metadata": {
        "id": "beDwIE5nDf40"
      },
      "source": [
        "To install the module before you can import it:"
      ]
    },
    {
      "cell_type": "code",
      "metadata": {
        "id": "KMbJFanMDf42"
      },
      "source": [
        "import uncertainties as uc\n",
        "import uncertainties.umath as um # for maths functions"
      ],
      "execution_count": 3,
      "outputs": []
    },
    {
      "cell_type": "markdown",
      "metadata": {
        "id": "b0VTUCsNDf43"
      },
      "source": [
        "# Introduction\n",
        "In the practical classes PX2133/PX2233 and PX2338 (Obs tech), as well as your year 3/4 project, a lot of emphasis is placed on the determination and mathematical handling of errors.\n",
        "The uncertainties module allows us to deal very easily with [error propagation](https://en.wikipedia.org/wiki/Propagation_of_uncertainty). For this sheet you should remind yourself about error bars in measurements and about propagation of uncertainties. Take an example from your lab handbook:\n",
        "\n",
        "**Example 1**: If the length of a rectangle is $1.24\\pm0.02 m$ and its breadth is $0.61\\pm0.01 m$, what is its area and the error in the area? The following code snippet solves this problem in a few lines."
      ]
    },
    {
      "cell_type": "code",
      "metadata": {
        "id": "QD3Boi7zDf44",
        "outputId": "b7825a10-6166-4f9c-b1a7-3de4b3e9e395",
        "colab": {
          "base_uri": "https://localhost:8080/"
        }
      },
      "source": [
        "L = uc.ufloat(1.24, 0.02)\n",
        "W = uc.ufloat(0.61, 0.01)\n",
        "print ('Area is:', L*W, 'm^2') # Do remember to add the units when printing!"
      ],
      "execution_count": 4,
      "outputs": [
        {
          "output_type": "stream",
          "name": "stdout",
          "text": [
            "Area is: 0.756+/-0.017 m^2\n"
          ]
        }
      ]
    },
    {
      "cell_type": "markdown",
      "metadata": {
        "id": "kUCaQxHoDf45"
      },
      "source": [
        "**Note**: For the area itself, it's fairly straightforward:"
      ]
    },
    {
      "cell_type": "code",
      "metadata": {
        "id": "qEc3n6IhDf46",
        "outputId": "ef46a9aa-3883-4687-af7d-09ba558c0777",
        "colab": {
          "base_uri": "https://localhost:8080/"
        }
      },
      "source": [
        "1.24*0.61"
      ],
      "execution_count": 5,
      "outputs": [
        {
          "output_type": "execute_result",
          "data": {
            "text/plain": [
              "0.7564"
            ]
          },
          "metadata": {},
          "execution_count": 5
        }
      ]
    },
    {
      "cell_type": "markdown",
      "metadata": {
        "id": "BqliMqzcDf47"
      },
      "source": [
        "However, for the error bar on this number:"
      ]
    },
    {
      "cell_type": "code",
      "metadata": {
        "id": "oHsWkel6Df47",
        "outputId": "9e0af5a8-f2a3-453a-a557-4e6124ee055f",
        "colab": {
          "base_uri": "https://localhost:8080/"
        }
      },
      "source": [
        "0.02*0.01"
      ],
      "execution_count": 6,
      "outputs": [
        {
          "output_type": "execute_result",
          "data": {
            "text/plain": [
              "0.0002"
            ]
          },
          "metadata": {},
          "execution_count": 6
        }
      ]
    },
    {
      "cell_type": "markdown",
      "metadata": {
        "id": "LmtYPpCRDf48"
      },
      "source": [
        "does not work. Instead, the [error progation formula](https://en.wikipedia.org/wiki/Propagation_of_uncertainty#Example_formulae) gives:"
      ]
    },
    {
      "cell_type": "code",
      "metadata": {
        "id": "Ndp6dGNPDf48",
        "outputId": "a5785ffc-e269-4da6-8e82-91d0f9754311",
        "colab": {
          "base_uri": "https://localhost:8080/"
        }
      },
      "source": [
        "np.abs(1.24*0.61)*np.sqrt((0.02/1.24)**2+(0.01/0.61)**2)"
      ],
      "execution_count": 7,
      "outputs": [
        {
          "output_type": "execute_result",
          "data": {
            "text/plain": [
              "0.01739540169125163"
            ]
          },
          "metadata": {},
          "execution_count": 7
        }
      ]
    },
    {
      "cell_type": "markdown",
      "metadata": {
        "id": "tp6Pr2SpDf48"
      },
      "source": [
        "So the area is $0.756\\pm0.017 m^2$. `uncertainties` obviously saves a lot of work, even for such a simple case. You can also take a look at the web site uncertainties hosted at https://pythonhosted.org/uncertainties/user_guide.html. In particular, [this section](https://pythonhosted.org/uncertainties/user_guide.html#access-to-the-uncertainty-and-to-the-nominal-value) shows some of the properties of a `ufloat` you can access directly.\n",
        "\n",
        "**Example 2**: A reference object is $10.0\\pm0.0001 m$ long, and makes a viewing angle of $0.62\\pm0.02 rad$. How far is it?"
      ]
    },
    {
      "cell_type": "code",
      "metadata": {
        "id": "T1_mC6qvDf49",
        "outputId": "a4028614-b728-4c1a-f083-90ccbacdd3d1",
        "colab": {
          "base_uri": "https://localhost:8080/"
        }
      },
      "source": [
        "L = uc.ufloat(10.0, 0.0001)\n",
        "theta = uc.ufloat(0.62,0.02)\n",
        "\n",
        "Distance = (L/2)/um.tan(theta/2)\n",
        "\n",
        "print ('Distance is:', Distance.nominal_value, 'm, with an error of:', Distance.std_dev)"
      ],
      "execution_count": 8,
      "outputs": [
        {
          "output_type": "stream",
          "name": "stdout",
          "text": [
            "Distance is: 15.609024890896208 m, with an error of: 0.537283338762715\n"
          ]
        }
      ]
    },
    {
      "cell_type": "markdown",
      "metadata": {
        "id": "jc1II4xzDf49"
      },
      "source": [
        "Note the need to use \"umath\" functions (like `um.tan()` instead of `np.tan()`), and how to get the nominal value and the standard deviation of the uncertainties objects. To get nicer looking output, such as controlling the number of significant digits printed, you can use the information about formatting at https://docs.python.org/3/tutorial/inputoutput.html. In the exercises below you need to print the values to the screen. (Don’t forget units.)"
      ]
    },
    {
      "cell_type": "markdown",
      "metadata": {
        "id": "hy1rocvLDf49"
      },
      "source": [
        "# Exercises\n",
        "This must be marked before you leave the lab. Mark weighting is in brackets.\n",
        "**Save your work to GitHub after having run all cells with `Runtime` -> `Restart and run all`. And do not change the notebook's filename.** Do add comments to your code, you'll lose points if your code is hard to understand. Graphs without labels (or units when appropriate) are not worth any point.\n",
        "\n",
        "## Exercise 0\n",
        "[0] With some approximations, we have measured the mass of the following black-holes:\n",
        "```\n",
        "\"35.6+/-3.9\",\"30.6+/-3.7\",\"63.1+/-3.2\",\"23.2+/-9.8\",\"13.6+/-4.5\",\"35.7+/-6.8\",\"13.7+/-6.0\",\"7.7+/-2.4\",\"20.5+/-4.0\"\n",
        "```\n",
        "Compute for each (with error-bars) their lifetime due to Hawking radiation:\n",
        "$$\n",
        "t = \\left(\\frac{M}{M_{\\odot}}\\right)^3\\,\\times\\,2.097\\,\\times\\,10^{67} yr\n",
        "$$\n",
        "\n",
        "(this exercise is for demonstration purposes and won't be marked)"
      ]
    },
    {
      "cell_type": "code",
      "metadata": {
        "id": "clqB6McjDf4-"
      },
      "source": [
        ""
      ],
      "execution_count": 8,
      "outputs": []
    },
    {
      "cell_type": "markdown",
      "metadata": {
        "id": "4TC_GrVODf4-"
      },
      "source": [
        "## Exercise 1\n",
        "[2] An object is measured to travel a distance $x = 5.1 \\pm 0.4 m$ during a time of $t = 0.4 \\pm 0.1 s$. What is the average velocity and the error in the average velocity?"
      ]
    },
    {
      "cell_type": "code",
      "metadata": {
        "id": "K4UeOMD-Df4-",
        "colab": {
          "base_uri": "https://localhost:8080/"
        },
        "outputId": "b25fb710-fa9c-4552-cff5-9c108edba04b"
      },
      "source": [
        "x=uc.ufloat(5.1,0.4)\n",
        "t=uc.ufloat(0.4,0.1)\n",
        "V=x/t\n",
        "print (f'average velocity is: {V.nominal_value:.1f} m/s with an error of: {V.std_dev:.1f}')"
      ],
      "execution_count": 9,
      "outputs": [
        {
          "output_type": "stream",
          "name": "stdout",
          "text": [
            "average velocity is: 12.7 m/s with an error of: 3.3\n"
          ]
        }
      ]
    },
    {
      "cell_type": "markdown",
      "metadata": {
        "id": "x8ZEm1P0Df4_"
      },
      "source": [
        "## Exercise 2\n",
        "[2] An enterprising cow attempts to jump over the moon by jumping vertically into the air with initial speed $v_0=4.0\\pm0.2 m/s$. After a time $t=0.60\\pm0.06s$, the height of the cow is $h = v_0t-\\frac{1}{2}g t^2 = 0.636 m$. What is the uncertainty in $h$? Take $g$ as exactly $9.81 ms^{-2}$."
      ]
    },
    {
      "cell_type": "code",
      "metadata": {
        "id": "cliHCg4xDf4_",
        "colab": {
          "base_uri": "https://localhost:8080/"
        },
        "outputId": "54406d4a-4f20-47bb-a15d-7a18c37b5c1d"
      },
      "source": [
        "v_0=uc.ufloat(4.0,0.2)\n",
        "time=uc.ufloat(0.6,0.06)\n",
        "g=9.81\n",
        "h=v_0*time-1/2*g*time**2\n",
        "print(f\"height at time=0.60s {h.nominal_value:.1f} m the error in h is {h.std_dev:.1f}\")"
      ],
      "execution_count": 10,
      "outputs": [
        {
          "output_type": "stream",
          "name": "stdout",
          "text": [
            "height at time=0.60s 0.6 m the error in h is 0.2\n"
          ]
        }
      ]
    },
    {
      "cell_type": "markdown",
      "metadata": {
        "id": "WfIeX6SuDf4_"
      },
      "source": [
        "## Exercise 3\n",
        "[2] In an optics experiment the object distance $u$ is measured to be 20cm and the image distance $v$ is 10cm, both to an accuracy of 0.5cm. Find the focal length $f$ of the lens using the formula:\n",
        "\n",
        "$$ \\frac{1}{u}+\\frac{1}{v}=\\frac{1}{f}$$"
      ]
    },
    {
      "cell_type": "code",
      "metadata": {
        "id": "6tT-eIkbDf4_",
        "colab": {
          "base_uri": "https://localhost:8080/"
        },
        "outputId": "27b11929-6bc6-4245-aeb0-667bd081574d"
      },
      "source": [
        "x_im=uc.ufloat(20,0.5)\n",
        "x_ob=uc.ufloat(10,0.5)\n",
        "f=1/((1/x_im)+(1/x_ob))\n",
        "print(f\"focal length {f.nominal_value:.1f} cm with an error of {f.std_dev:.1f}\")"
      ],
      "execution_count": 11,
      "outputs": [
        {
          "output_type": "stream",
          "name": "stdout",
          "text": [
            "focal length 6.7 cm with an error of 0.2\n"
          ]
        }
      ]
    },
    {
      "cell_type": "markdown",
      "metadata": {
        "id": "NTY8qx_VDf4_"
      },
      "source": [
        "## Exercise 4\n",
        "[2] Two students each measure the refractive index of water. Jack measures a value of $1.33 \\pm 0.03$ while Jill measures $1.28 \\pm 0.02$. Are these values in agreement? *You do have to think a bit about this one...*"
      ]
    },
    {
      "cell_type": "code",
      "metadata": {
        "id": "uFrI-vpRDf4_",
        "colab": {
          "base_uri": "https://localhost:8080/",
          "height": 296
        },
        "outputId": "db8e4750-3df4-4ea0-c129-7a18595b0887"
      },
      "source": [
        "from scipy.optimize import curve_fit\n",
        "from numpy import e\n",
        "def Gau(x,height,mu,sigma):\n",
        "  \"\"\"returns Gaussian distribution for given position, height, mean and std\"\"\"\n",
        "  return height*e**-((x-mu)**2/(2*sigma**2))\n",
        "\n",
        "#setting initial guess and finding optimised variables\n",
        "sigma_1=0.03\n",
        "sigma_2=0.02\n",
        "mu_1=1.33\n",
        "mu_2=1.28\n",
        "\n",
        "x_data=np.linspace(1,2,1000)\n",
        "init_guess=([1,1.33,0.03])\n",
        "\n",
        "popt, pcov = curve_fit(Gau, x_data, Gau(x_data,1,mu_1,sigma_1), init_guess)\n",
        "Gau_1=Gau(x_data,popt[0],popt[1],popt[2])\n",
        "plt.plot(x_data, Gau_1, label=\"Jack\")\n",
        "\n",
        "popt, pcov = curve_fit(Gau, x_data, Gau(x_data,1,mu_2,sigma_2), init_guess)\n",
        "Gau_2=Gau(x_data,popt[0],popt[1],popt[2])\n",
        "plt.plot(x_data, Gau_2, label=\"Jill\")\n",
        "\n",
        "plt.xlabel(\"x\")\n",
        "plt.ylabel(\"y\")\n",
        "plt.legend()\n",
        "#There is a region of values where Jack and Jill's measurements agree shown by the overlap of the Gaussians"
      ],
      "execution_count": 12,
      "outputs": [
        {
          "output_type": "execute_result",
          "data": {
            "text/plain": [
              "<matplotlib.legend.Legend at 0x7fe9367e1ed0>"
            ]
          },
          "metadata": {},
          "execution_count": 12
        },
        {
          "output_type": "display_data",
          "data": {
            "image/png": "[encoded data removed]",
            "text/plain": [
              "<Figure size 432x288 with 1 Axes>"
            ]
          },
          "metadata": {
            "needs_background": "light"
          }
        }
      ]
    },
    {
      "cell_type": "markdown",
      "metadata": {
        "id": "DXurMMINDf5A"
      },
      "source": [
        "## Exercise 5\n",
        "[2] The damped resonance frequency $\\omega_{res}$ of an oscillating system is related to the (un-damped) natural angular frequency $\\omega_0$ and the damping coefficient $\\alpha$ by: \n",
        "\n",
        "$$\\omega_{res} = \\sqrt{ \\omega_0^2 - 2\\alpha^2}$$\n",
        "\n",
        "Find $f_0$ if the measured resonance frequency $f_{res}$ is $23.2\\pm0.1 Hz$ and the measured damping coefficient is $19.5\\pm0.5s^{-1}$.\n"
      ]
    },
    {
      "cell_type": "markdown",
      "metadata": {
        "id": "gXGTQzesNghz"
      },
      "source": [
        " $$\\sqrt((\\omega res)^2+2(\\alpha)^2=\\omega 0$$"
      ]
    },
    {
      "cell_type": "code",
      "metadata": {
        "id": "JnZCbKKnDf5A",
        "colab": {
          "base_uri": "https://localhost:8080/"
        },
        "outputId": "7723b1a7-3396-481f-8e1d-27c74001a652"
      },
      "source": [
        "from numpy import pi\n",
        "f_res=uc.ufloat(23.2,0.1)\n",
        "coeff_d=uc.ufloat(19.5,0.5)\n",
        "om_0=((2*pi*f_res)**2+2*coeff_d**2)**(0.5)\n",
        "f_0=om_0/(2*pi)\n",
        "print(f\"natural frequency is {f_0.nominal_value:.1f} Hz with error {f_0.std_dev:.1f}\")"
      ],
      "execution_count": 13,
      "outputs": [
        {
          "output_type": "stream",
          "name": "stdout",
          "text": [
            "natural frequency is 23.6 Hz with error 0.1\n"
          ]
        }
      ]
    },
    {
      "cell_type": "markdown",
      "metadata": {
        "id": "9unrvEpSDf5B"
      },
      "source": [
        "## Exercise 6\n",
        "[2] Suppose you have the following equation from one of your lab experiments:\n",
        "\n",
        "$$f=\\frac{c}{2}\\sqrt{\\frac{n_x^2}{L_x^2}+\\frac{n_y^2}{L_y^2}+\\frac{n_z^2}{L_z^2}}$$\n",
        "\n",
        "where $f$ is the resonant frequency of sound waves in a box of sides $L_x$, $L_y$ and $L_z$ in length and the $n_x$ etc. are integers. $L_x = 10.2\\pm0.2m$, $L_y = 5.2\\pm0.3m$ and $L_z = 20.0\\pm0.1 m$, while $c = 331.3 + T * 0.606 \\,m\\,s^{-1}$ is the temperature-dependent speed of sound, and the temperature $T$ is $23 \\pm 1^\\circ C$.\n",
        "Calculate $f$ and the error in $f$ for the following values of $(nx,ny,nz)= (1,1,1), (1,1,2)$ and $(2,1,1)$.\n"
      ]
    },
    {
      "cell_type": "code",
      "metadata": {
        "id": "unVhnUG5Df5B",
        "colab": {
          "base_uri": "https://localhost:8080/"
        },
        "outputId": "12c74206-4285-4f53-c1ca-d84686ed15ce"
      },
      "source": [
        "L_x=uc.ufloat(10.2,0.2)\n",
        "L_y=uc.ufloat(5.2,0.3)\n",
        "L_z=uc.ufloat(20.0,0.1)\n",
        "T=uc.ufloat(23,1)\n",
        "c=331.3+T*0.606\n",
        "f_1=c/2*(1/(L_x)**2+1/(L_y)**2+1/(L_z)**2)**0.5\n",
        "f_2=c/2*(1/(L_x)**2+1/(L_y)**2+2/(L_z)**2)**0.5\n",
        "f_3=c/2*(2/(L_x)**2+1/(L_y)**2+1/(L_z)**2)**0.5\n",
        "print(f\"The resonant frequencies are {f_1.nominal_value:.1f}, {f_2.nominal_value:.1f}, {f_3.nominal_value:.1f} Hz with errors {f_1.std_dev:.1f}, {f_2.std_dev:.1f}, {f_3.std_dev:.1f} respectively\")"
      ],
      "execution_count": 14,
      "outputs": [
        {
          "output_type": "stream",
          "name": "stdout",
          "text": [
            "The resonant frequencies are 38.2, 39.2, 41.8 Hz with errors 1.7, 1.6, 1.5 respectively\n"
          ]
        }
      ]
    },
    {
      "cell_type": "markdown",
      "metadata": {
        "id": "SFWLyQLmDf5B"
      },
      "source": [
        "## Exercise 7\n",
        "[4] The reflection coefficient $R_\\parallel$ for parallel plane-polarised light reflected from a surface is given by the equation:\n",
        "\n",
        "$$ R_\\parallel = \\frac{\\tan^2(\\theta_i - \\theta_t)}{\\tan^2(\\theta_i + \\theta_t)} $$\n",
        "\n",
        "Calculate the error in $R_\\parallel$ given measurements $\\theta_i = (78 \\pm 1)^\\circ$ and $\\theta_t = (40 \\pm 1)^\\circ$."
      ]
    },
    {
      "cell_type": "code",
      "metadata": {
        "id": "_ZuYW_P9Df5C",
        "colab": {
          "base_uri": "https://localhost:8080/"
        },
        "outputId": "092e1e6a-3573-4189-f792-2bb33cf39a91"
      },
      "source": [
        "theta_i=uc.ufloat(78,1)\n",
        "theta_t=uc.ufloat(40,1)\n",
        "R=(um.tan(theta_i-theta_t))**2/(um.tan(theta_i+theta_t))**2\n",
        "print(f\"The error in R is {R.std_dev:.2f}\")"
      ],
      "execution_count": 15,
      "outputs": [
        {
          "output_type": "stream",
          "name": "stdout",
          "text": [
            "The error in R is 0.07\n"
          ]
        }
      ]
    },
    {
      "cell_type": "markdown",
      "metadata": {
        "id": "_nXHKz0oDf5C"
      },
      "source": [
        "## Exercise 8\n",
        "[4] Calculate and print to the screen the fractional uncertainty, as a percentage to one\n",
        "significant figure, of the fluid flow discharge coefficient $C_d$ from the equation\n",
        "\n",
        "$$\n",
        "C_d = \\frac{\\dot{m}\\sqrt{1-\\left(\\frac{d}{D}\\right)^4}}{Kd^2F\\sqrt{\\rho\\Delta P}}\n",
        "$$\n",
        "\n",
        "where\n",
        "\n",
        "\\begin{align*}\n",
        "    C_d &= \\text{discharge coefficient}&& \\text{(no units)} \\\\\n",
        "    \\dot{m} &= \\text{mass flow rate}&& = 0.13 \\pm 0.01kg\\,s^{-1} \\\\\n",
        "    d &= \\text{orifice diameter}&& = 11\\pm 1 mm \\\\\n",
        "    D &= \\text{pipe diameter}&& = 71 \\pm 1 mm \\\\\n",
        "    \\rho &= \\text{fluid density}&& =1.01\\pm0.01g\\,cm^{-3} \\\\\n",
        "    \\Delta P &= \\text{differential pressure}&& =156 \\pm 7 Pa \\\\\n",
        "    K &= \\text{a constant parameter}&& =\\text{constant (no units)} \\\\\n",
        "    F &= \\text{thermal expansion factor}&& =\\text{constant (no units)}\n",
        "\\end{align*}\n"
      ]
    },
    {
      "cell_type": "code",
      "metadata": {
        "id": "ri9vkM2hDf5C",
        "colab": {
          "base_uri": "https://localhost:8080/"
        },
        "outputId": "d2e880b6-69d1-4e67-dcf8-5a7c5afceaa3"
      },
      "source": [
        "m=uc.ufloat(0.13,0.01)\n",
        "d=uc.ufloat(11E-3,1E-3)\n",
        "D=uc.ufloat(71E-3,1E-3)\n",
        "rho=uc.ufloat(1.01E3,0.01E3)\n",
        "delta=uc.ufloat(156,7)\n",
        "K=1\n",
        "F=1\n",
        "C_d=(m*(1-(d/D)**4))**0.5/(K*d**2*F*(rho*delta))\n",
        "frac_unc=C_d.std_dev/C_d.nominal_value\n",
        "perc_unc=frac_unc*100\n",
        "print(f\"the percentage error is {perc_unc:.1g}%\"  )"
      ],
      "execution_count": 16,
      "outputs": [
        {
          "output_type": "stream",
          "name": "stdout",
          "text": [
            "the percentage error is 2e+01%\n"
          ]
        }
      ]
    },
    {
      "cell_type": "markdown",
      "metadata": {
        "id": "sdgVRZjwDf5D"
      },
      "source": [
        "## Exercise 9: Optional problem (not marked)\n",
        "If you have time and want to try something interesting, do the following problem by plotting in 2D:\n",
        " - Draw an equilateral triangle with vertices and coordinates: vertex 1: $(p_1,q_1)$; vertex 2: $(p_2, q_2)$; vertex 3: $(p_3, q_3)$.\n",
        " - Place a dot at an arbitrary point $P = (x_0, y_0)$ within this triangle.\n",
        " - Find the next point by selecting randomly an integer $n = 1 , 2, $  or $3$ : \n",
        "    1. If 1 , place a dot halfway between P and vertex 1.\n",
        "    2. If 2 , place a dot halfway between P and vertex 2.\n",
        "    3. If 3 , place a dot halfway between P and vertex 3.\n",
        " - Repeat the last two steps using the last dot as the new P. \n",
        " \n",
        "Mathematically, the coordinates of successive points are given by the formulae \n",
        "\n",
        "$$(x_{i+1},y_{i+1})=0.5[(x_i,y_i)+(p_n,q_n)]$$\n",
        "\n",
        "and\n",
        "\n",
        "$$n=int(1+3r_i),$$\n",
        "\n",
        "where $r_i$ is a random number between 0 and 1 and where the $int()$ function outputs the closest integer smaller than or equal to the argument.\n",
        "\n",
        "Try extending this to four vertices."
      ]
    },
    {
      "cell_type": "code",
      "metadata": {
        "id": "dK7mi_A7Df5D"
      },
      "source": [
        ""
      ],
      "execution_count": 16,
      "outputs": []
    }
  ]
}
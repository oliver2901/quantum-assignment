{
  "nbformat": 4,
  "nbformat_minor": 5,
  "metadata": {
    "kernelspec": {
      "display_name": "Python 3",
      "language": "python",
      "name": "python3"
    },
    "language_info": {
      "codemirror_mode": {
        "name": "ipython",
        "version": 3
      },
      "file_extension": ".py",
      "mimetype": "text/x-python",
      "name": "python",
      "nbconvert_exporter": "python",
      "pygments_lexer": "ipython3",
      "version": "3.7.10"
    },
    "colab": {
      "name": "assignment_1.ipynb",
      "provenance": []
    }
  },
  "cells": [
    {
      "cell_type": "markdown",
      "metadata": {
        "id": "freelance-incentive"
      },
      "source": [
        "# Introductory Quantum Mechanics / Structured Programming Coursework\n",
        "\n",
        "- **This coursework is worth 10% of your final mark for PX2132 and 25% of your final mark for PX2134.**\n",
        "- **The deadline for submitting this work is Friday 2pm Week 7 (19th November).**\n",
        "- **Please upload your Jupyter notebook via turnitin to the PX2132 assignment, and via PX2134's GitHub classroom.**\n",
        "- **Upload a .pdf version of your work via turnitin to the PX2134 assignment**.\n",
        "- Your submitted work must abide by university regulations regarding plagiarism. You are encouraged to discuss the work with your classmates, but your submitted work must be written by you alone. You are welcome to copy and paste code from online sources, but you must cite your sources.\n",
        "- You **have** to use functions, define them properly with sensible signatures, and include detailed comments throughout your code."
      ],
      "id": "freelance-incentive"
    },
    {
      "cell_type": "markdown",
      "metadata": {
        "id": "younger-incidence"
      },
      "source": [
        "## 1 Time evolution of infinite potential well states\n",
        "In PX2132 lecture 2 we met the infinite potential well defined by the potential\n",
        "\n",
        "$$\n",
        "  V(x) =\n",
        "    \\begin{cases}\n",
        "      0 & -L/2<x<L/2\\\\\n",
        "      \\infty & \\text{otherwise.}\n",
        "    \\end{cases} \\tag{1}\n",
        "$$\n",
        "\n",
        "Although you do not need to show it here, from lecture 3 you should be able to show that the energy eigenvalues $E_n$ and eigenfunctions $\\psi_n(x, t)$ are:\n",
        "\n",
        "\n",
        "\\begin{align*}\n",
        "  \\psi_n(x,t)&=\n",
        "    \\begin{cases}\n",
        "      \\sqrt\\frac{2}{L}\\cos\\left(\\frac{n\\pi x}{L}\\right)\\exp(iE_n t / \\hbar) & n\\,\\text{odd}\\\\\n",
        "      \\sqrt\\frac{2}{L}\\sin\\left(\\frac{n\\pi x}{L}\\right)\\exp(iE_n t / \\hbar) & n\\,\\text{even}\n",
        "    \\end{cases}\\tag{2}\\\\\n",
        "E_n&=\\frac{\\hbar^2n^2\\pi^2}{2mL^2.}\\tag{3}\n",
        "\\end{align*}\n",
        "\n",
        "\n",
        "For simplicity let's choose units such that\n",
        "\n",
        "$$\n",
        "\\hbar=m=L=1.\\tag{4}\n",
        "$$\n",
        "\n",
        "These solutions are defined for continuous values of $x$. For subsequent questions, on the computer you will need to discretize space into a finite number of poistions, $N$. Something like $N=1000$ should give nice results in a reasonable time, but leave $N$ as a specified variable in your code.\n",
        "\n",
        "**Q.1.1 [1 mark]** How many energy eigenstates must there be in this numerical problem?"
      ],
      "id": "younger-incidence"
    },
    {
      "cell_type": "markdown",
      "metadata": {
        "id": "YciMxXPRh5rE"
      },
      "source": [
        "**n has no specified limits there is an infinite number of energy eigenstates** "
      ],
      "id": "YciMxXPRh5rE"
    },
    {
      "cell_type": "markdown",
      "metadata": {
        "id": "decent-floor"
      },
      "source": [
        "**Q1.2 [3 marks]** Plot the real parts of the first 3 energy eigenstates at time $t=0$. Offset them along the y-axis by their respective energies."
      ],
      "id": "decent-floor"
    },
    {
      "cell_type": "code",
      "metadata": {
        "id": "IXomzuZ-rpP7"
      },
      "source": [
        "import numpy as np\n",
        "import matplotlib.pyplot as plt\n",
        "from scipy.optimize import curve_fit\n",
        "from matplotlib.animation import FuncAnimation\n",
        "from IPython import display "
      ],
      "id": "IXomzuZ-rpP7",
      "execution_count": 1,
      "outputs": []
    },
    {
      "cell_type": "code",
      "metadata": {
        "id": "DpE9ys4Lh6b6",
        "outputId": "32698970-99ee-4a1e-8c7b-9d2649e30290",
        "colab": {
          "base_uri": "https://localhost:8080/",
          "height": 295
        }
      },
      "source": [
        "x=np.linspace(-0.5,0.5,1000)\n",
        "\n",
        "p1=np.sqrt(2)*np.cos(np.pi*x)+np.pi**2/2\n",
        "p2=np.sqrt(2)*np.cos(2*np.pi*x)+4*np.pi**2/2\n",
        "p3=np.sqrt(2)*np.cos(3*np.pi*x)+9*np.pi**2/2\n",
        "\n",
        "plt.plot(x,p1,label=\"n=1\")\n",
        "plt.plot(x,p2,label=\"n=2\")\n",
        "plt.plot(x,p3,label=\"n=3\")\n",
        "\n",
        "plt.xlim(-0.5,0.5)\n",
        "plt.xlabel(\"x\")\n",
        "plt.ylabel(\"phi+E\")\n",
        "plt.legend()"
      ],
      "id": "DpE9ys4Lh6b6",
      "execution_count": 2,
      "outputs": [
        {
          "output_type": "execute_result",
          "data": {
            "text/plain": [
              "<matplotlib.legend.Legend at 0x7f535afed250>"
            ]
          },
          "metadata": {},
          "execution_count": 2
        },
        {
          "output_type": "display_data",
          "data": {
            "image/png": "[encoded data removed]",
            "text/plain": [
              "<Figure size 432x288 with 1 Axes>"
            ]
          },
          "metadata": {
            "needs_background": "light"
          }
        }
      ]
    },
    {
      "cell_type": "markdown",
      "metadata": {
        "id": "julian-diagram"
      },
      "source": [
        "**Q1.3 [4 marks]** Create an animation for the first 3 energy eigenstate wavefunctions. Show the full complex behaviour using axes $x, \\text{Real}(\\psi_n(x,t)), \\text{Imag}(\\psi_n(x,t))$. Let your animation run over 10 periods of the $\\psi_1$ oscillation."
      ],
      "id": "julian-diagram"
    },
    {
      "cell_type": "code",
      "metadata": {
        "id": "V992YxPsh7Lj",
        "outputId": "1a2e8a29-392d-4e9e-dd28-26a386367165",
        "colab": {
          "base_uri": "https://localhost:8080/",
          "height": 592
        }
      },
      "source": [
        "a=complex(0,1)\n",
        "x=np.linspace(-0.5,0.5,1000)\n",
        "\n",
        "def phi(x,t,n):\n",
        "  if n%2==0:\n",
        "    yn=np.sqrt(2)*np.sin(n*np.pi*x)*np.e**(a*n**2*np.pi**2/2*t)\n",
        "  else:\n",
        "    yn=np.sqrt(2)*np.cos(n*np.pi*x)*np.e**(a*n**2*np.pi**2/2*t)\n",
        "  return yn\n",
        "\n",
        "# Creating an empty figure\n",
        "fig = plt.figure()\n",
        "ax = plt.axes(projection=\"3d\")\n",
        "\n",
        "# issue with phi_n.real and phi_n.imag in the three lines below\n",
        "'''# Initialisation of the plot element `line` as empty:\n",
        "line1, = ax.plot3D(x, phi_1.real, phi_1.imag, label='n=1',color='red')\n",
        "line2, = ax.plot3D(x, phi_2.real, phi_2.imag, label='n=2',color='blue')\n",
        "line3, = ax.plot3D(x, phi_3.real, phi_3.imag, label='n=3',color='green')\n",
        "\n",
        "# Setting axes \n",
        "ax.set_xlim(-0.5,0.5)\n",
        "ax.set_ylim(-2.5,2.5)\n",
        "\n",
        "#creating new animate function\n",
        "\n",
        "def animate(frame_num):\n",
        "    \n",
        "    \"\"\"creates 3d data of complex time series with changing phase (which is a function of frame number)\"\"\"\n",
        "    \n",
        "    phi_1=phi(x,0.1*frame_num, 1)\n",
        "    z1=(phi_1.real,phi_1.imag)\n",
        "    \n",
        "    phi_2=phi(x,0.1*frame_num, 2)\n",
        "    z2=(phi_2.real,phi_2.imag)\n",
        "\n",
        "    phi_3=phi(x,0.1*frame_num, 3)\n",
        "    z3=(phi_3.real,phi_3.imag)\n",
        "\n",
        "    line1.set_data_3d(x,phi_1.real,phi_1.imag)\n",
        "    line2.set_data_3d(x,phi_2.real,phi_2.imag)\n",
        "    line3.set_data_3d(x,phi_3.real,phi_3.imag)\n",
        "    \n",
        "    return [line1, line2, line3]'''\n",
        "\n",
        "#adding labels\n",
        "plt.xlabel(\"real\")\n",
        "plt.ylabel(\"imaginary\")\n",
        "\n",
        "#setting animation, frames and frame interval\n",
        "anim=FuncAnimation(fig,animate,frames=100, interval=20)     \n",
        "\n",
        "# generating display\n",
        "video = anim.to_html5_video()\n",
        "html = display.HTML(video)\n",
        "display.display(html)\n",
        "plt.close()"
      ],
      "id": "V992YxPsh7Lj",
      "execution_count": 7,
      "outputs": [
        {
          "output_type": "error",
          "ename": "NameError",
          "evalue": "ignored",
          "traceback": [
            "\u001b[0;31m---------------------------------------------------------------------------\u001b[0m",
            "\u001b[0;31mNameError\u001b[0m                                 Traceback (most recent call last)",
            "\u001b[0;32m<ipython-input-7-e7d2c45adcd7>\u001b[0m in \u001b[0;36m<module>\u001b[0;34m()\u001b[0m\n\u001b[1;32m     51\u001b[0m \u001b[0;34m\u001b[0m\u001b[0m\n\u001b[1;32m     52\u001b[0m \u001b[0;31m# generating display\u001b[0m\u001b[0;34m\u001b[0m\u001b[0;34m\u001b[0m\u001b[0;34m\u001b[0m\u001b[0m\n\u001b[0;32m---> 53\u001b[0;31m \u001b[0mvideo\u001b[0m \u001b[0;34m=\u001b[0m \u001b[0manim\u001b[0m\u001b[0;34m.\u001b[0m\u001b[0mto_html5_video\u001b[0m\u001b[0;34m(\u001b[0m\u001b[0;34m)\u001b[0m\u001b[0;34m\u001b[0m\u001b[0;34m\u001b[0m\u001b[0m\n\u001b[0m\u001b[1;32m     54\u001b[0m \u001b[0mhtml\u001b[0m \u001b[0;34m=\u001b[0m \u001b[0mdisplay\u001b[0m\u001b[0;34m.\u001b[0m\u001b[0mHTML\u001b[0m\u001b[0;34m(\u001b[0m\u001b[0mvideo\u001b[0m\u001b[0;34m)\u001b[0m\u001b[0;34m\u001b[0m\u001b[0;34m\u001b[0m\u001b[0m\n\u001b[1;32m     55\u001b[0m \u001b[0mdisplay\u001b[0m\u001b[0;34m.\u001b[0m\u001b[0mdisplay\u001b[0m\u001b[0;34m(\u001b[0m\u001b[0mhtml\u001b[0m\u001b[0;34m)\u001b[0m\u001b[0;34m\u001b[0m\u001b[0;34m\u001b[0m\u001b[0m\n",
            "\u001b[0;32m/usr/local/lib/python3.7/dist-packages/matplotlib/animation.py\u001b[0m in \u001b[0;36mto_html5_video\u001b[0;34m(self, embed_limit)\u001b[0m\n\u001b[1;32m   1330\u001b[0m                                 \u001b[0mbitrate\u001b[0m\u001b[0;34m=\u001b[0m\u001b[0mrcParams\u001b[0m\u001b[0;34m[\u001b[0m\u001b[0;34m'animation.bitrate'\u001b[0m\u001b[0;34m]\u001b[0m\u001b[0;34m,\u001b[0m\u001b[0;34m\u001b[0m\u001b[0;34m\u001b[0m\u001b[0m\n\u001b[1;32m   1331\u001b[0m                                 fps=1000. / self._interval)\n\u001b[0;32m-> 1332\u001b[0;31m                 \u001b[0mself\u001b[0m\u001b[0;34m.\u001b[0m\u001b[0msave\u001b[0m\u001b[0;34m(\u001b[0m\u001b[0mstr\u001b[0m\u001b[0;34m(\u001b[0m\u001b[0mpath\u001b[0m\u001b[0;34m)\u001b[0m\u001b[0;34m,\u001b[0m \u001b[0mwriter\u001b[0m\u001b[0;34m=\u001b[0m\u001b[0mwriter\u001b[0m\u001b[0;34m)\u001b[0m\u001b[0;34m\u001b[0m\u001b[0;34m\u001b[0m\u001b[0m\n\u001b[0m\u001b[1;32m   1333\u001b[0m                 \u001b[0;31m# Now open and base64 encode.\u001b[0m\u001b[0;34m\u001b[0m\u001b[0;34m\u001b[0m\u001b[0;34m\u001b[0m\u001b[0m\n\u001b[1;32m   1334\u001b[0m                 \u001b[0mvid64\u001b[0m \u001b[0;34m=\u001b[0m \u001b[0mbase64\u001b[0m\u001b[0;34m.\u001b[0m\u001b[0mencodebytes\u001b[0m\u001b[0;34m(\u001b[0m\u001b[0mpath\u001b[0m\u001b[0;34m.\u001b[0m\u001b[0mread_bytes\u001b[0m\u001b[0;34m(\u001b[0m\u001b[0;34m)\u001b[0m\u001b[0;34m)\u001b[0m\u001b[0;34m\u001b[0m\u001b[0;34m\u001b[0m\u001b[0m\n",
            "\u001b[0;32m/usr/local/lib/python3.7/dist-packages/matplotlib/animation.py\u001b[0m in \u001b[0;36msave\u001b[0;34m(self, filename, writer, fps, dpi, codec, bitrate, extra_args, metadata, extra_anim, savefig_kwargs, progress_callback)\u001b[0m\n\u001b[1;32m   1133\u001b[0m                 \u001b[0;32mfor\u001b[0m \u001b[0manim\u001b[0m \u001b[0;32min\u001b[0m \u001b[0mall_anim\u001b[0m\u001b[0;34m:\u001b[0m\u001b[0;34m\u001b[0m\u001b[0;34m\u001b[0m\u001b[0m\n\u001b[1;32m   1134\u001b[0m                     \u001b[0;31m# Clear the initial frame\u001b[0m\u001b[0;34m\u001b[0m\u001b[0;34m\u001b[0m\u001b[0;34m\u001b[0m\u001b[0m\n\u001b[0;32m-> 1135\u001b[0;31m                     \u001b[0manim\u001b[0m\u001b[0;34m.\u001b[0m\u001b[0m_init_draw\u001b[0m\u001b[0;34m(\u001b[0m\u001b[0;34m)\u001b[0m\u001b[0;34m\u001b[0m\u001b[0;34m\u001b[0m\u001b[0m\n\u001b[0m\u001b[1;32m   1136\u001b[0m                 \u001b[0mframe_number\u001b[0m \u001b[0;34m=\u001b[0m \u001b[0;36m0\u001b[0m\u001b[0;34m\u001b[0m\u001b[0;34m\u001b[0m\u001b[0m\n\u001b[1;32m   1137\u001b[0m                 \u001b[0;31m# TODO: Currently only FuncAnimation has a save_count\u001b[0m\u001b[0;34m\u001b[0m\u001b[0;34m\u001b[0m\u001b[0;34m\u001b[0m\u001b[0m\n",
            "\u001b[0;32m/usr/local/lib/python3.7/dist-packages/matplotlib/animation.py\u001b[0m in \u001b[0;36m_init_draw\u001b[0;34m(self)\u001b[0m\n\u001b[1;32m   1741\u001b[0m         \u001b[0;31m# artists.\u001b[0m\u001b[0;34m\u001b[0m\u001b[0;34m\u001b[0m\u001b[0;34m\u001b[0m\u001b[0m\n\u001b[1;32m   1742\u001b[0m         \u001b[0;32mif\u001b[0m \u001b[0mself\u001b[0m\u001b[0;34m.\u001b[0m\u001b[0m_init_func\u001b[0m \u001b[0;32mis\u001b[0m \u001b[0;32mNone\u001b[0m\u001b[0;34m:\u001b[0m\u001b[0;34m\u001b[0m\u001b[0;34m\u001b[0m\u001b[0m\n\u001b[0;32m-> 1743\u001b[0;31m             \u001b[0mself\u001b[0m\u001b[0;34m.\u001b[0m\u001b[0m_draw_frame\u001b[0m\u001b[0;34m(\u001b[0m\u001b[0mnext\u001b[0m\u001b[0;34m(\u001b[0m\u001b[0mself\u001b[0m\u001b[0;34m.\u001b[0m\u001b[0mnew_frame_seq\u001b[0m\u001b[0;34m(\u001b[0m\u001b[0;34m)\u001b[0m\u001b[0;34m)\u001b[0m\u001b[0;34m)\u001b[0m\u001b[0;34m\u001b[0m\u001b[0;34m\u001b[0m\u001b[0m\n\u001b[0m\u001b[1;32m   1744\u001b[0m \u001b[0;34m\u001b[0m\u001b[0m\n\u001b[1;32m   1745\u001b[0m         \u001b[0;32melse\u001b[0m\u001b[0;34m:\u001b[0m\u001b[0;34m\u001b[0m\u001b[0;34m\u001b[0m\u001b[0m\n",
            "\u001b[0;32m/usr/local/lib/python3.7/dist-packages/matplotlib/animation.py\u001b[0m in \u001b[0;36m_draw_frame\u001b[0;34m(self, framedata)\u001b[0m\n\u001b[1;32m   1764\u001b[0m         \u001b[0;31m# Call the func with framedata and args. If blitting is desired,\u001b[0m\u001b[0;34m\u001b[0m\u001b[0;34m\u001b[0m\u001b[0;34m\u001b[0m\u001b[0m\n\u001b[1;32m   1765\u001b[0m         \u001b[0;31m# func needs to return a sequence of any artists that were modified.\u001b[0m\u001b[0;34m\u001b[0m\u001b[0;34m\u001b[0m\u001b[0;34m\u001b[0m\u001b[0m\n\u001b[0;32m-> 1766\u001b[0;31m         \u001b[0mself\u001b[0m\u001b[0;34m.\u001b[0m\u001b[0m_drawn_artists\u001b[0m \u001b[0;34m=\u001b[0m \u001b[0mself\u001b[0m\u001b[0;34m.\u001b[0m\u001b[0m_func\u001b[0m\u001b[0;34m(\u001b[0m\u001b[0mframedata\u001b[0m\u001b[0;34m,\u001b[0m \u001b[0;34m*\u001b[0m\u001b[0mself\u001b[0m\u001b[0;34m.\u001b[0m\u001b[0m_args\u001b[0m\u001b[0;34m)\u001b[0m\u001b[0;34m\u001b[0m\u001b[0;34m\u001b[0m\u001b[0m\n\u001b[0m\u001b[1;32m   1767\u001b[0m         \u001b[0;32mif\u001b[0m \u001b[0mself\u001b[0m\u001b[0;34m.\u001b[0m\u001b[0m_blit\u001b[0m\u001b[0;34m:\u001b[0m\u001b[0;34m\u001b[0m\u001b[0;34m\u001b[0m\u001b[0m\n\u001b[1;32m   1768\u001b[0m             \u001b[0;32mif\u001b[0m \u001b[0mself\u001b[0m\u001b[0;34m.\u001b[0m\u001b[0m_drawn_artists\u001b[0m \u001b[0;32mis\u001b[0m \u001b[0;32mNone\u001b[0m\u001b[0;34m:\u001b[0m\u001b[0;34m\u001b[0m\u001b[0;34m\u001b[0m\u001b[0m\n",
            "\u001b[0;32m<ipython-input-7-e7d2c45adcd7>\u001b[0m in \u001b[0;36manimate\u001b[0;34m(frame_num)\u001b[0m\n\u001b[1;32m     37\u001b[0m     \u001b[0mz3\u001b[0m\u001b[0;34m=\u001b[0m\u001b[0;34m(\u001b[0m\u001b[0mphi_3\u001b[0m\u001b[0;34m.\u001b[0m\u001b[0mreal\u001b[0m\u001b[0;34m,\u001b[0m\u001b[0mphi_3\u001b[0m\u001b[0;34m.\u001b[0m\u001b[0mimag\u001b[0m\u001b[0;34m)\u001b[0m\u001b[0;34m\u001b[0m\u001b[0;34m\u001b[0m\u001b[0m\n\u001b[1;32m     38\u001b[0m \u001b[0;34m\u001b[0m\u001b[0m\n\u001b[0;32m---> 39\u001b[0;31m     \u001b[0mline1\u001b[0m\u001b[0;34m.\u001b[0m\u001b[0mset_data_3d\u001b[0m\u001b[0;34m(\u001b[0m\u001b[0mx\u001b[0m\u001b[0;34m,\u001b[0m\u001b[0mphi_1\u001b[0m\u001b[0;34m.\u001b[0m\u001b[0mreal\u001b[0m\u001b[0;34m,\u001b[0m\u001b[0mphi_1\u001b[0m\u001b[0;34m.\u001b[0m\u001b[0mimag\u001b[0m\u001b[0;34m)\u001b[0m\u001b[0;34m\u001b[0m\u001b[0;34m\u001b[0m\u001b[0m\n\u001b[0m\u001b[1;32m     40\u001b[0m     \u001b[0mline2\u001b[0m\u001b[0;34m.\u001b[0m\u001b[0mset_data_3d\u001b[0m\u001b[0;34m(\u001b[0m\u001b[0mx\u001b[0m\u001b[0;34m,\u001b[0m\u001b[0mphi_2\u001b[0m\u001b[0;34m.\u001b[0m\u001b[0mreal\u001b[0m\u001b[0;34m,\u001b[0m\u001b[0mphi_2\u001b[0m\u001b[0;34m.\u001b[0m\u001b[0mimag\u001b[0m\u001b[0;34m)\u001b[0m\u001b[0;34m\u001b[0m\u001b[0;34m\u001b[0m\u001b[0m\n\u001b[1;32m     41\u001b[0m     \u001b[0mline3\u001b[0m\u001b[0;34m.\u001b[0m\u001b[0mset_data_3d\u001b[0m\u001b[0;34m(\u001b[0m\u001b[0mx\u001b[0m\u001b[0;34m,\u001b[0m\u001b[0mphi_3\u001b[0m\u001b[0;34m.\u001b[0m\u001b[0mreal\u001b[0m\u001b[0;34m,\u001b[0m\u001b[0mphi_3\u001b[0m\u001b[0;34m.\u001b[0m\u001b[0mimag\u001b[0m\u001b[0;34m)\u001b[0m\u001b[0;34m\u001b[0m\u001b[0;34m\u001b[0m\u001b[0m\n",
            "\u001b[0;31mNameError\u001b[0m: name 'line1' is not defined"
          ]
        },
        {
          "output_type": "display_data",
          "data": {
            "image/png": "[encoded data removed]",
            "text/plain": [
              "<Figure size 432x288 with 1 Axes>"
            ]
          },
          "metadata": {
            "needs_background": "light"
          }
        }
      ]
    },
    {
      "cell_type": "markdown",
      "metadata": {
        "id": "orange-facing"
      },
      "source": [
        "**Q1.4 [1 mark]** Explain why the probability densities $\\rho_n$ of the energy eigenstates, $\\rho_n(x)=|\\psi_n(x,t)|^2$, are time independent."
      ],
      "id": "orange-facing"
    },
    {
      "cell_type": "markdown",
      "metadata": {
        "id": "cognitive-driving"
      },
      "source": [
        "**Q1.5** In PX2132 lecture 4 we saw that any wavefunction matching the boundary conditions can be written as a sum of energy eigenstates. Consider the normalized top hat function\n",
        "\n",
        "$$\n",
        "  f(x)=\n",
        "    \\begin{cases}\n",
        "      \\alpha^{-1/2},& x_0-\\frac{\\alpha}{2}\\leq x \\leq x_0+\\frac{\\alpha}{2}\\\\\n",
        "      0,& \\text{otherwise.}\\tag{5}\\label{eq:tophat}\n",
        "    \\end{cases}\n",
        "$$\n",
        "\n",
        "Although you do not need to show it here, by the reasoning in Lecture 4 you should be able to show that the subsequent time evolution of this state is\n",
        "\n",
        "$$\n",
        "    f(x,t)=\\sum^{\\infty}_{n=1}f_n\\psi_n(x,t)\\tag{6}\\label{eq:tophat_fourier}\n",
        "$$\n",
        "\n",
        "where\n",
        "\n",
        "$$\n",
        "  f_n=\n",
        "    \\begin{cases}\n",
        "      \\sqrt\\frac{8L}{\\alpha}\\frac{1}{n\\pi}\\cos\\left(\\frac{n\\pi x_0}{L}\\right)\\sin\\left(\\frac{n\\pi \\alpha}{2L}\\right),& n\\,\\text{odd}\\\\\n",
        "      \\sqrt\\frac{8L}{L\\alpha}\\frac{1}{n\\pi}\\sin\\left(\\frac{n\\pi x_0}{L}\\right)\\sin\\left(\\frac{n\\pi \\alpha}{2L}\\right),& n\\,\\text{even.}\n",
        "    \\end{cases}\\tag{7}\n",
        "$$\n",
        "\n",
        "**(i) [2 marks]** What limits are imposed on $x_0$ and $\\alpha$ by the boundary conditions?\n"
      ],
      "id": "cognitive-driving"
    },
    {
      "cell_type": "markdown",
      "metadata": {
        "id": "suspended-kitchen"
      },
      "source": [
        "**(ii) [1 mark]** Eq (6) is an analytic (rather than numerical) result. With $N$ positions in your numerical code, how many terms will there be in the numerical sum?"
      ],
      "id": "suspended-kitchen"
    },
    {
      "cell_type": "markdown",
      "metadata": {
        "id": "cleared-rochester"
      },
      "source": [
        "**(iii) [3 marks]** Animate $|f(x,t)|^2$ to see the subsequent time evolution, for a few values of $x_0$ and $\\alpha$."
      ],
      "id": "cleared-rochester"
    },
    {
      "cell_type": "markdown",
      "metadata": {
        "id": "obvious-wilson"
      },
      "source": [
        "**(iv) [2 marks]** By plotting $f(x,t=0)$ for a few values of $N$, on the same axes, find the smallest value which you think gives a decent approximation to the top hat function of Eq. [5](#mjx-eqn-eq:tophat)."
      ],
      "id": "obvious-wilson"
    },
    {
      "cell_type": "markdown",
      "metadata": {
        "id": "essential-trademark"
      },
      "source": [
        "**(v) [3 marks]** \n",
        "\n",
        "At time $t=0$ you know the wavefunction to be a top hat function with $x_0=L/4$ and $\\alpha=0.01L$. The probability to find the particle in the region $L/4-0.01L<x<L/4+0.01L$ is therefore 1. Plot the probability of finding the particle in this region for subsequent times. Remember that the probability density $\\rho_n$ is a density. As such, it needs to be integrated over the relevant range of positions to give the probability of finding the particle in that range."
      ],
      "id": "essential-trademark"
    },
    {
      "cell_type": "markdown",
      "metadata": {
        "id": "aware-force"
      },
      "source": [
        "## 2 Exact diagonalisation\n",
        "\n",
        "In PX2132 lecture 4 we saw that the TISE for the finite potential well cannot be solved analytically. We can solve any problem in quantum mechanics using 'exact diagonalisation'. The TISE is an eigenvalue problem, and we can simply diagonalise the Hamiltonian to find the eigenvalues and eigenvectors.\n",
        "The TISE reads\n",
        "\n",
        "$$\n",
        "\\hat{H}\\phi_n=E_n\\phi_n \\tag{8}\n",
        "$$\n",
        "\n",
        "or in 1D\n",
        "\n",
        "$$\n",
        "\\left(-\\frac{\\hbar^2}{2m}\\frac{\\mathrm{d}^2}{\\mathrm{d}x^2}+\\hat{V} \\right)\\phi_n(x)=E_n\\phi_n(x).\\label{TISE1D}\\tag{9}\n",
        "$$\n",
        "\n",
        "This time we will define a potential\n",
        "\n",
        "$$\n",
        "  V(x) =\n",
        "    \\begin{cases}\n",
        "      0 & -L/2<x<L/2\\\\\n",
        "      V_0 & \\text{otherwise.}\n",
        "    \\end{cases}\\label{potential}\\tag{10}\n",
        "$$\n",
        "\n",
        "Let's again choose units such that\n",
        "\n",
        "$$\n",
        "\\hbar=m=L=1.\\tag{11}\n",
        "$$\n",
        "\n",
        "The wavefunctions will extend beyond the end of the well. On a computer $x$ will be discrete, taking $n$ values. Call these $x_i$, with $1\\leq i \\leq N$. Since $x$ is now a list of $N$ numbers it is reasonable to think of it as an $N\\times 1$ vector:\n",
        "\n",
        "$$\n",
        "x=\n",
        " \\begin{pmatrix}\n",
        "  x_1 \\\\\n",
        "  x_2 \\\\\n",
        "  \\vdots  \\\\\n",
        "  x_n.\n",
        " \\end{pmatrix}\\tag{12}\n",
        "$$\n",
        "\n",
        "\n",
        "**Q2.1**\n",
        "**(i) [1 mark]** Thinking about the solutions for the bound states in the finite potential well, what must go wrong with any numerical simulation at $x_1$ and $x_N$?"
      ],
      "id": "aware-force"
    },
    {
      "cell_type": "markdown",
      "metadata": {
        "id": "wooden-bermuda"
      },
      "source": [
        "**(ii) [1 mark]** This is not too much of a problem provided we leave enough space between the ends of the well and $x_1$ and $x_N$. Why not?"
      ],
      "id": "wooden-bermuda"
    },
    {
      "cell_type": "markdown",
      "metadata": {
        "id": "fundamental-bachelor"
      },
      "source": [
        "**(iii) [1 mark]** Let's relabel $\\phi_n(x_i)$ to $\\phi_n^i$. Explain why it is reasonable to think of $\\phi_n(x)$ as a $N\\times 1$ vector for each $n$ separately."
      ],
      "id": "fundamental-bachelor"
    },
    {
      "cell_type": "markdown",
      "metadata": {
        "id": "blind-bouquet"
      },
      "source": [
        "**(iv) [1 mark]** With a finite $N$, Eq. [9](#mjx-eqn-TISE1D) is just a matrix eigenvalue problem. What are the dimensions of the object in parentheses?"
      ],
      "id": "blind-bouquet"
    },
    {
      "cell_type": "markdown",
      "metadata": {
        "id": "charming-session"
      },
      "source": [
        "**Q2.2** The second derivative of a function $\\phi(x)$ can be approximated numerically using the formula\n",
        "\n",
        "$$\n",
        "\\phi''(x)\\approx\\frac{\\phi(x+h)-2\\phi(x)+\\phi(x-h)}{h^2}\\label{secondd}\\tag{13}\n",
        "$$\n",
        "\n",
        "where $h$ is the fixed spacing between neighbouring discrete positions $x_{i+1}$ and $x_i$.\n",
        "\n",
        "**(i) [1 mark]** By Taylor expanding the right hand side of Eq. [13](#mjx-eqn-secondd) verify that this expression returns the second derivative in the limit $h\\to0$."
      ],
      "id": "charming-session"
    },
    {
      "cell_type": "markdown",
      "metadata": {
        "id": "increased-employment"
      },
      "source": [
        "**(ii) [2 marks]** By thinking of $\\mathrm{d}^2/\\mathrm{d}x^2$ as a matrix acting on the vector $\\phi_n$, explain why, for sites $x_1<x<x_N$,\n",
        "\n",
        "$$\n",
        "\\frac{\\mathrm{d}^2\\phi_n}{\\mathrm{d}x^2} \\approx \\frac{1}{h^2}\n",
        " \\begin{pmatrix}\n",
        "    -2 & 1 & 0 & \\cdots & 0 \\\\\n",
        "    1 & -2 & 1 &  & 0 \\\\\n",
        "    0 & 1 & -2 & \\ddots & \\vdots \\\\\n",
        "    \\vdots  & & \\ddots & \\ddots & 1  \\\\\n",
        "    0 & 0 & \\cdots & 1 & -2 \n",
        " \\end{pmatrix}\n",
        "  \\begin{pmatrix}\n",
        "    \\phi_n^1 \\\\\n",
        "    \\phi_n^2 \\\\\n",
        "    \\phi_n^3 \\\\\n",
        "    \\vdots  \\\\\n",
        "    \\phi_n^N \n",
        " \\end{pmatrix}.\\tag{14}\n",
        "$$"
      ],
      "id": "increased-employment"
    },
    {
      "cell_type": "markdown",
      "metadata": {
        "id": "sharp-navigator"
      },
      "source": [
        "**(iii) [1 mark]** What new problem arises at sites $x_1$ and $x_N$?"
      ],
      "id": "sharp-navigator"
    },
    {
      "cell_type": "markdown",
      "metadata": {
        "id": "immediate-davis"
      },
      "source": [
        "**(iv) [2 marks]** Explain why the matrix form of $\\hat{V}$ should be diagonal."
      ],
      "id": "immediate-davis"
    },
    {
      "cell_type": "markdown",
      "metadata": {
        "id": "english-stanford"
      },
      "source": [
        "**Q2.3** Putting this all together, we see that if we construct the matrix\n",
        "\n",
        "$$\n",
        "-\\frac{\\hbar^2}{2m}\\frac{1}{h^2}\n",
        " \\begin{pmatrix}\n",
        "    -2 & 1 & 0 & \\cdots & 0 \\\\\n",
        "    1 & -2 & 1 &  & 0 \\\\\n",
        "    0 & 1 & -2 \\ddots & \\vdots \\\\\n",
        "    \\vdots  & & \\ddots & \\ddots & 1  \\\\\n",
        "    0 & 0 & \\cdots & 1 & -2 \n",
        " \\end{pmatrix}\n",
        " +\n",
        " \\begin{pmatrix}\n",
        "    V(x_1) & 0 & 0 & \\cdots & 0 \\\\\n",
        "    0 & V(x_2) & 1 &  & 0 \\\\\n",
        "    \\vdots & 0 & V(x_3) & \\ddots & \\vdots \\\\\n",
        "    \\vdots  & & \\ddots & \\ddots & 0  \\\\\n",
        "    0 & 0 & \\cdots & 0 & V(x_N) \n",
        " \\end{pmatrix}\\tag{15}\n",
        "$$\n",
        "\n",
        "its eigenvalues must be $E_n$ and its normalised eigenvectors must be $\\phi_n(x)$. You can use the python code:"
      ],
      "id": "english-stanford"
    },
    {
      "cell_type": "code",
      "metadata": {
        "id": "sixth-blake"
      },
      "source": [
        "H = [[1,0],[0,1]]\n",
        "E, phi = np.linalg.eigh(H)"
      ],
      "id": "sixth-blake",
      "execution_count": null,
      "outputs": []
    },
    {
      "cell_type": "markdown",
      "metadata": {
        "id": "outstanding-justice"
      },
      "source": [
        "to diagonalise the matrix $H$ (here the identity matrix as a placeholder) to give its eigenvalues and normalised eigenvectors. Note that from the [documentation for np.linalg.eigh](https://numpy.org/doc/stable/reference/generated/numpy.linalg.eigh.html):\n",
        "```\n",
        "The column phi[:, i] is the normalized eigenvector corresponding to the eigenvalue E[i]\n",
        "```\n",
        "**(i) [5 marks]** Set $V_0=100$ in [10](#mjx-eqn-potential). Plot $V(x)$ and the real part of $\\phi_n(x)$ for the lowest three energy eigenstates. Offset the $\\phi_n(x)$ vertically by their energies. Note: now that the well is finite, make sure you use a wide enough range of values for $x$."
      ],
      "id": "outstanding-justice"
    },
    {
      "cell_type": "markdown",
      "metadata": {
        "id": "supreme-developer"
      },
      "source": [
        "**(ii) [2 marks]** Now set $V_0=20$. What happened to $\\phi_3(x)$?"
      ],
      "id": "supreme-developer"
    },
    {
      "cell_type": "markdown",
      "metadata": {
        "id": "beautiful-music"
      },
      "source": [
        "**Q2.4 [3 marks]** Your code should give the energy eigenvalues and eigenstates of any potential you care to specify. Play around with it and give an interesting example of your choice here."
      ],
      "id": "beautiful-music"
    },
    {
      "cell_type": "markdown",
      "metadata": {
        "id": "absolute-distributor"
      },
      "source": [
        "**Bonus question** (only do this if you're interested; no points attached).\n",
        "Since you have the energy eigenstates for any potential, it is possible to numerically calculate the time evolultion of any chosen initial state. See if you can code this up. It will be a useful program for the rest of your physics career!"
      ],
      "id": "absolute-distributor"
    },
    {
      "cell_type": "code",
      "metadata": {
        "id": "following-pickup"
      },
      "source": [
        ""
      ],
      "id": "following-pickup",
      "execution_count": null,
      "outputs": []
    },
    {
      "cell_type": "code",
      "metadata": {
        "id": "4d59c3f5"
      },
      "source": [
        ""
      ],
      "id": "4d59c3f5",
      "execution_count": null,
      "outputs": []
    }
  ]
}
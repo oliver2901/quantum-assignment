{
 "cells": [
  {
   "cell_type": "markdown",
   "id": "freelance-incentive",
   "metadata": {},
   "source": [
    "# Introductory Quantum Mechanics / Structured Programming Coursework\n",
    "\n",
    "- **This coursework is worth 10% of your final mark for PX2132 and 25% of your final mark for PX2134.**\n",
    "- **The deadline for submitting this work is Friday 2pm Week 7 (19th November).**\n",
    "- **Please upload your Jupyter notebook via turnitin to the PX2132 assignment, and via PX2134's GitHub classroom.**\n",
    "- **Upload a .pdf version of your work via turnitin to the PX2134 assignment**.\n",
    "- Your submitted work must abide by university regulations regarding plagiarism. You are encouraged to discuss the work with your classmates, but your submitted work must be written by you alone. You are welcome to copy and paste code from online sources, but you must cite your sources.\n",
    "- You **have** to use functions, define them properly with sensible signatures, and include detailed comments throughout your code."
   ]
  },
  {
   "cell_type": "markdown",
   "id": "younger-incidence",
   "metadata": {},
   "source": [
    "## 1 Time evolution of infinite potential well states\n",
    "In PX2132 lecture 2 we met the infinite potential well defined by the potential\n",
    "\n",
    "$\n",
    "  V(x) =\n",
    "    \\begin{cases}\n",
    "      0 & -L/2<x<L/2\\\\\n",
    "      \\infty & \\text{otherwise.}\n",
    "    \\end{cases} \\tag{1}\n",
    "$\n",
    "\n",
    "Although you do not need to show it here, from lecture 3 you should be able to show that the energy eigenvalues $E_n$ and eigenfunctions $\\psi_n(x, t)$ are:\n",
    "\n",
    "\n",
    "\\begin{align}\n",
    "  \\psi_n(x,t)&=\n",
    "    \\begin{cases}\n",
    "      \\sqrt\\frac{2}{L}\\cos\\left(\\frac{n\\pi x}{L}\\right)\\exp(iE_n t / \\hbar) & n\\,\\text{odd}\\\\\n",
    "      \\sqrt\\frac{2}{L}\\sin\\left(\\frac{n\\pi x}{L}\\right)\\exp(iE_n t / \\hbar) & n\\,\\text{even}\n",
    "    \\end{cases}\\tag{2}\\\\\n",
    "E_n&=\\frac{\\hbar^2n^2\\pi^2}{2mL^2.}\\tag{3}\n",
    "\\end{align}\n",
    "\n",
    "\n",
    "For simplicity let's choose units such that\n",
    "\n",
    "$$\n",
    "\\hbar=m=L=1.\\tag{4}\n",
    "$$\n",
    "\n",
    "These solutions are defined for continuous values of $x$. For subsequent questions, on the computer you will need to discretize space into a finite number of poistions, $N$. Something like $N=1000$ should give nice results in a reasonable time, but leave $N$ as a specific variable in your code.\n",
    "\n",
    "**Q.1.1 [1 mark]** How many energy eigenstates must there be in this numerical problem?"
   ]
  },
  {
   "cell_type": "markdown",
   "id": "decent-floor",
   "metadata": {},
   "source": [
    "**Q1.2 [3 marks]** Plot the real parts of the first 3 energy eigenstates at time $t=0$. Offset them along the y-axis by their respective energies."
   ]
  },
  {
   "cell_type": "markdown",
   "id": "julian-diagram",
   "metadata": {},
   "source": [
    "**Q1.3 [4 marks]** Create an animation for the first 3 energy eigenstate wavefunctions. Show the full complex behaviour using axes $x, \\text{Real}(\\psi_n(x,t)), \\text{Imag}(\\psi_n(x,t))$. Let your animation run over 10 periods of the $\\psi_1$ oscillation."
   ]
  },
  {
   "cell_type": "markdown",
   "id": "orange-facing",
   "metadata": {},
   "source": [
    "**Q1.4 [1 mark]** Explain why the probability densities $\\rho_n$ of the energy eigenstates, $\\rho_n(x)=|\\psi_n(x,t)|^2$, are time independent."
   ]
  },
  {
   "cell_type": "markdown",
   "id": "cognitive-driving",
   "metadata": {},
   "source": [
    "**Q1.5** In PX2132 lecture 4 we saw that any wavefunction matching the boundary conditions can be written as a sum of energy eigenstates. Consider the normalized top hat function\n",
    "\n",
    "$$\n",
    "  f(x)=\n",
    "    \\begin{cases}\n",
    "      \\alpha^{-1/2},& x_0-\\frac{\\alpha}{2}\\leq x \\leq x_0+\\frac{\\alpha}{2}\\\\\n",
    "      0,& \\text{otherwise.}\\tag{5}\\label{eq:tophat}\n",
    "    \\end{cases}\n",
    "$$\n",
    "\n",
    "Although you do not need to show it here, by the reasoning in Lecture 4 you should be able to show that the subsequent time evolution of this state is\n",
    "\n",
    "$$\n",
    "f(x,t)=\\sum^{\\infty}_{n=1}f_n\\psi_n(x,t)\\tag{6}\\label{eq:tophat_fourier}\n",
    "$$\n",
    "\n",
    "where\n",
    "\n",
    "$$\n",
    "  f_n=\n",
    "    \\begin{cases}\n",
    "      \\sqrt\\frac{8L}{\\alpha}\\frac{1}{n\\pi}\\cos\\left(\\frac{n\\pi x_0}{L}\\right)\\sin\\left(\\frac{n\\pi \\alpha}{2L}\\right),& n\\,\\text{odd}\\\\\n",
    "      \\sqrt\\frac{8L}{L\\alpha}\\frac{1}{n\\pi}\\sin\\left(\\frac{n\\pi x_0}{L}\\right)\\sin\\left(\\frac{n\\pi \\alpha}{2L}\\right),& n\\,\\text{even.}\n",
    "    \\end{cases}\\tag{7}\n",
    "$$\n",
    "\n",
    "**(i) [2 marks]** What limits are imposed on $x_0$ and $\\alpha$ by the boundary conditions?\n"
   ]
  },
  {
   "cell_type": "markdown",
   "id": "suspended-kitchen",
   "metadata": {},
   "source": [
    "**(ii) [1 mark]** How many terms will there be in the numerical sum?"
   ]
  },
  {
   "cell_type": "markdown",
   "id": "cleared-rochester",
   "metadata": {},
   "source": [
    "**(iii) [3 marks]** Animate $|f(x,t)|^2$ to see the subsequent time evolution, for a few values of $x_0$ and $\\alpha$."
   ]
  },
  {
   "cell_type": "markdown",
   "id": "obvious-wilson",
   "metadata": {},
   "source": [
    "**(iv) [2 marks]** By plotting Eq. [6](#mjx-eqn-eq:tophat_fourier) for a few values of $N$, on the same axes, find the smallest value which you think gives a decent approximation to the top hat function of Eq. [5](#mjx-eqn-eq:tophat)."
   ]
  },
  {
   "cell_type": "markdown",
   "id": "essential-trademark",
   "metadata": {},
   "source": [
    "**(iv) [3 marks]** \n",
    "\n",
    "At time $t=0$ you observe the particle to be at $x=L/4$. The resolution of your measurement device is $\\pm0.01L$. Plot the probability of finding the particle at $x=L/4$ at subsequent times. Remember that the probability density $\\rho_n$ is a density. As such, it needs to be integrated over the relevant range of positions to give the probability of finding the particle in that range."
   ]
  },
  {
   "cell_type": "markdown",
   "id": "aware-force",
   "metadata": {},
   "source": [
    "## 2 Exact diagonalisation\n",
    "\n",
    "In PX2132 lecture 4 we saw that the TISE for the finite potential well cannot be solved analytically. We can solve any problem in quantum mechanics using 'exact diagonalisation'. The TISE is an eigenvalue problem, and we can simply diagonalise the Hamiltonian to find the eigenvalues and eigenvectors.\n",
    "The TISE reads\n",
    "\n",
    "$$\n",
    "\\hat{H}\\phi_n=E_n\\phi_n \\tag{8}\n",
    "$$\n",
    "\n",
    "or in 1D\n",
    "\n",
    "$$\n",
    "\\left(-\\frac{\\hbar^2}{2m}\\frac{\\mathrm{d}^2}{\\mathrm{d}x^2}+\\hat{V} \\right)\\phi_n(x)=E_n\\phi_n(x).\\label{TISE1D}\\tag{9}\n",
    "$$\n",
    "\n",
    "This time we will define a potential\n",
    "\n",
    "$$\n",
    "  V(x) =\n",
    "    \\begin{cases}\n",
    "      0 & -L/2<x<L/2\\\\\n",
    "      V_0 & \\text{otherwise.}\n",
    "    \\end{cases}\\label{potential}\\tag{10}\n",
    "$$\n",
    "\n",
    "Let's again choose units such that\n",
    "\n",
    "$$\n",
    "\\hbar=m=L=1.\\tag{11}\n",
    "$$\n",
    "\n",
    "The wavefunctions will extend beyond the end of the well. On a computer $x$ will be discrete, taking $n$ values. Call these $x_i$, with $1\\leq i \\leq N$. Since $x$ is now a list of $N$ numbers it is reasonable to think of it as an $N\\times 1$ vector:\n",
    "\n",
    "$$\n",
    "x=\n",
    " \\begin{pmatrix}\n",
    "  x_1 \\\\\n",
    "  x_2 \\\\\n",
    "  \\vdots  \\\\\n",
    "  x_n.\n",
    " \\end{pmatrix}\\tag{12}\n",
    "$$\n",
    "\n",
    "\n",
    "**Q2.1**\n",
    "**(i) [1 mark]** Thinking about the solutions for the bound states in the finite potential well, what must go wrong with any numerical simulation at $x_1$ and $x_N$?"
   ]
  },
  {
   "cell_type": "markdown",
   "id": "wooden-bermuda",
   "metadata": {},
   "source": [
    "**(ii) [1 mark]** This is not too much of a problem provided we leave enough space between the ends of the well and $x_1$ and $x_N$. Why not?"
   ]
  },
  {
   "cell_type": "markdown",
   "id": "fundamental-bachelor",
   "metadata": {},
   "source": [
    "**(iii) [1 mark]** Let's relabel $\\phi_n(x_i)$ to $\\phi_n^i$. Explain why it is reasonable to think of $\\phi_n(x)$ as an $N\\times 1$ vector for each $n$ separately."
   ]
  },
  {
   "cell_type": "markdown",
   "id": "blind-bouquet",
   "metadata": {},
   "source": [
    "**(iv) [1 mark]** With a finite $N$, Eq. [9](#mjx-eqn-TISE1D) is just a matrix eigenvalue problem. What are the dimensions of the object in parentheses?"
   ]
  },
  {
   "cell_type": "markdown",
   "id": "charming-session",
   "metadata": {},
   "source": [
    "**Q2.2** The second derivative of a function $\\phi(x)$ can be approximated numerically using the formula\n",
    "\n",
    "$$\n",
    "\\phi''(x)\\approx\\frac{\\phi(x+h)-2\\phi(x)+\\phi(x-h)}{h^2}\\label{secondd}\\tag{13}\n",
    "$$\n",
    "\n",
    "where $h$ is the fixed spacing between neighbouring discrete positions $x_{i+1}$ and $x_i$.\n",
    "\n",
    "**(i) [1 mark]** By Taylor expanding the right hand side of Eq. [13](#mjx-eqn-secondd) verify that this expression returns the second derivative in the limit $h\\to0$."
   ]
  },
  {
   "cell_type": "markdown",
   "id": "increased-employment",
   "metadata": {},
   "source": [
    "**(ii) [2 marks]** By thinking of $\\mathrm{d}^2/\\mathrm{d}x^2$ as a matrix acting on the vector $\\phi_n$, explain why, for sites $x_1<x<x_N$,\n",
    "\n",
    "$$\n",
    "\\frac{\\mathrm{d}^2\\phi_n}{\\mathrm{d}x^2} \\approx \\frac{1}{h^2}\n",
    " \\begin{pmatrix}\n",
    "    -2 & 1 & 0 & \\cdots & 0 \\\\\n",
    "    1 & -2 & 1 &  & 0 \\\\\n",
    "    0 & 1 & -2 & \\ddots & \\vdots \\\\\n",
    "    \\vdots  & & \\ddots & \\ddots & 1  \\\\\n",
    "    0 & 0 & \\cdots & 1 & -2 \n",
    " \\end{pmatrix}\n",
    "  \\begin{pmatrix}\n",
    "    \\phi_n^1 \\\\\n",
    "    \\phi_n^2 \\\\\n",
    "    \\phi_n^3 \\\\\n",
    "    \\vdots  \\\\\n",
    "    \\phi_n^N \n",
    " \\end{pmatrix}.\\tag{14}\n",
    "$$"
   ]
  },
  {
   "cell_type": "markdown",
   "id": "sharp-navigator",
   "metadata": {},
   "source": [
    "**(iii) [1 mark]** What new problem arises at sites $x_1$ and $x_N$?"
   ]
  },
  {
   "cell_type": "markdown",
   "id": "immediate-davis",
   "metadata": {},
   "source": [
    "**(iv) [2 marks]** Explain why the matrix form of $\\hat{V}$ should be diagonal."
   ]
  },
  {
   "cell_type": "markdown",
   "id": "english-stanford",
   "metadata": {},
   "source": [
    "**Q2.3** Putting this all together, we see that if we construct the matrix\n",
    "\n",
    "$$\n",
    "-\\frac{\\hbar^2}{2m}\\frac{1}{h^2}\n",
    " \\begin{pmatrix}\n",
    "    -2 & 1 & 0 & \\cdots & 0 \\\\\n",
    "    1 & -2 & 1 &  & 0 \\\\\n",
    "    0 & 1 & -2 \\ddots & \\vdots \\\\\n",
    "    \\vdots  & & \\ddots & \\ddots & 1  \\\\\n",
    "    0 & 0 & \\cdots & 1 & -2 \n",
    " \\end{pmatrix}\n",
    " +\n",
    " \\begin{pmatrix}\n",
    "    V(x_1) & 0 & 0 & \\cdots & 0 \\\\\n",
    "    0 & V(x_2) & 1 &  & 0 \\\\\n",
    "    \\vdots & 0 & V(x_3) & \\ddots & \\vdots \\\\\n",
    "    \\vdots  & & \\ddots & \\ddots & 0  \\\\\n",
    "    0 & 0 & \\cdots & 0 & V(x_N) \n",
    " \\end{pmatrix}\\tag{15}\n",
    "$$\n",
    "\n",
    "its eigenvalues must be $E_n$ and its normalised eigenvectors must be $\\phi_n(x)$. You can use the python code:"
   ]
  },
  {
   "cell_type": "code",
   "execution_count": 19,
   "id": "sixth-blake",
   "metadata": {},
   "outputs": [],
   "source": [
    "H = [[1,0],[0,1]]\n",
    "E, phi = np.linalg.eigh(H)"
   ]
  },
  {
   "cell_type": "markdown",
   "id": "outstanding-justice",
   "metadata": {},
   "source": [
    "to diagonalise the matrix $H$ (here the identity matrix as a placeholder) to give its eigenvalues and normalised eigenvectors. Note that from the [documentation for np.linalg.eigh](https://numpy.org/doc/stable/reference/generated/numpy.linalg.eigh.html):\n",
    "```\n",
    "The column phi[:, i] is the normalized eigenvector corresponding to the eigenvalue E[i]\n",
    "```\n",
    "**(i) [5 marks]** Set $V_0=100$ in [10](#mjx-eqn-potential). Plot $V(x)$ and the real part of $\\phi_n(x)$ for the lowest three energy eigenstates. Offset the $\\phi_n(x)$ vertically by their energies. Note: now that the well is finite, make sure you use a wide enough range of values for $x$."
   ]
  },
  {
   "cell_type": "markdown",
   "id": "supreme-developer",
   "metadata": {},
   "source": [
    "**(ii) [2 marks]** Now set $V_0=20$. What happened to $\\phi_3(x)$?"
   ]
  },
  {
   "cell_type": "markdown",
   "id": "beautiful-music",
   "metadata": {},
   "source": [
    "**Q2.4 [3 marks]** Your code should give the energy eigenvalues and eigenstates of any potential you care to specify. Play around with it and give an interesting example of your choice here."
   ]
  },
  {
   "cell_type": "markdown",
   "id": "absolute-distributor",
   "metadata": {},
   "source": [
    "**Bonus question** (only do this if you're interested; no points attached).\n",
    "Since you have the energy eigenstates for any potential, it is possible to numerically calculate the time evolultion of any chosen initial state. See if you can code this up. It will be a useful program for the rest of your physics career!"
   ]
  },
  {
   "cell_type": "code",
   "execution_count": null,
   "id": "following-pickup",
   "metadata": {},
   "outputs": [],
   "source": []
  },
  {
   "cell_type": "code",
   "execution_count": null,
   "id": "4d59c3f5",
   "metadata": {},
   "outputs": [],
   "source": []
  }
 ],
 "metadata": {
  "kernelspec": {
   "display_name": "Python 3 (ipykernel)",
   "language": "python",
   "name": "python3"
  },
  "language_info": {
   "codemirror_mode": {
    "name": "ipython",
    "version": 3
   },
   "file_extension": ".py",
   "mimetype": "text/x-python",
   "name": "python",
   "nbconvert_exporter": "python",
   "pygments_lexer": "ipython3",
   "version": "3.8.10"
  }
 },
 "nbformat": 4,
 "nbformat_minor": 5
}
